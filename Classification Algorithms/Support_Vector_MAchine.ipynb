{
  "nbformat": 4,
  "nbformat_minor": 0,
  "metadata": {
    "colab": {
      "provenance": []
    },
    "kernelspec": {
      "name": "python3",
      "display_name": "Python 3"
    },
    "language_info": {
      "name": "python"
    }
  },
  "cells": [
    {
      "cell_type": "markdown",
      "source": [
        "**Support Vector Machine Classifier**\n",
        "\n",
        "The Support Vector Machine (SVM) is a powerful supervised learning algorithm used for both classification and regression tasks. It works by finding the optimal hyperplane that best separates data points of different classes in a high-dimensional space. SVMs are particularly effective in cases where the data is not linearly separable, as they can use kernel functions (like RBF, polynomial, or sigmoid) to project data into higher dimensions for better separation. In this project, we implemented an SVM classifier on the Wine dataset to classify wine samples into different quality classes. The model was trained, tuned, and evaluated to demonstrate SVM’s strength in handling complex decision boundaries and achieving high classification accuracy."
      ],
      "metadata": {
        "id": "IdKwPUidKA7B"
      }
    },
    {
      "cell_type": "markdown",
      "source": [
        "**Loading Preprocessed Data**\n",
        "\n",
        "In this step, we load the previously saved training and testing datasets using the joblib library. This approach ensures consistency and reproducibility across experiments — allowing us to reuse the same data splits without re-running the entire preprocessing pipeline. The datasets (X_train, X_test, y_train, and y_test) are now ready to be scaled and used for training the Support Vector Machine (SVM) classifier."
      ],
      "metadata": {
        "id": "iIdcPoHpVwVm"
      }
    },
    {
      "cell_type": "code",
      "source": [
        "import joblib\n",
        "\n",
        "X_train = joblib.load('/content/X_train.joblib')\n",
        "X_test = joblib.load('/content/X_test.joblib')\n",
        "y_train = joblib.load('/content/y_train.joblib')\n",
        "y_test = joblib.load('/content/y_test.joblib')\n",
        "\n",
        "print(\"Train/Test datasets loaded successfully!\")\n"
      ],
      "metadata": {
        "colab": {
          "base_uri": "https://localhost:8080/"
        },
        "id": "ApMqIMwRJ86i",
        "outputId": "f611e28b-29eb-4278-d8b2-85a91c34268c"
      },
      "execution_count": 1,
      "outputs": [
        {
          "output_type": "stream",
          "name": "stdout",
          "text": [
            "Train/Test datasets loaded successfully!\n"
          ]
        }
      ]
    },
    {
      "cell_type": "code",
      "source": [
        "from sklearn.preprocessing import StandardScaler\n",
        "\n",
        "scaler = StandardScaler()\n",
        "X_train_scaled = scaler.fit_transform(X_train)\n",
        "X_test_scaled = scaler.transform(X_test)\n",
        "\n",
        "print(\"Features scaled successfully!\")\n"
      ],
      "metadata": {
        "colab": {
          "base_uri": "https://localhost:8080/"
        },
        "id": "6KodcIfRKow8",
        "outputId": "f55f9be0-1f68-4a6d-f8cb-b34e6e1b84b7"
      },
      "execution_count": 2,
      "outputs": [
        {
          "output_type": "stream",
          "name": "stdout",
          "text": [
            "Features scaled successfully!\n"
          ]
        }
      ]
    },
    {
      "cell_type": "code",
      "source": [
        "from sklearn.svm import SVC\n",
        "\n",
        "svm_clf = SVC(random_state=42)\n",
        "svm_clf.fit(X_train_scaled, y_train)\n",
        "\n",
        "print(\"Baseline SVM model trained successfully!\")\n"
      ],
      "metadata": {
        "colab": {
          "base_uri": "https://localhost:8080/"
        },
        "id": "tKd-Rr4vKrQ8",
        "outputId": "deb77699-a0c1-44e5-8d6f-e96e111eb5d2"
      },
      "execution_count": 3,
      "outputs": [
        {
          "output_type": "stream",
          "name": "stdout",
          "text": [
            "Baseline SVM model trained successfully!\n"
          ]
        }
      ]
    },
    {
      "cell_type": "code",
      "source": [
        "from sklearn.metrics import accuracy_score, precision_score, recall_score, f1_score, confusion_matrix, classification_report\n",
        "\n",
        "y_pred = svm_clf.predict(X_test_scaled)\n",
        "\n",
        "print(\"Baseline SVM Model Performance:\")\n",
        "print(f\"Accuracy:  {accuracy_score(y_test, y_pred):.4f}\")\n",
        "print(f\"Precision: {precision_score(y_test, y_pred, average='weighted'):.4f}\")\n",
        "print(f\"Recall:    {recall_score(y_test, y_pred, average='weighted'):.4f}\")\n",
        "print(f\"F1-score:  {f1_score(y_test, y_pred, average='weighted'):.4f}\")\n"
      ],
      "metadata": {
        "colab": {
          "base_uri": "https://localhost:8080/"
        },
        "id": "D4EHxU34Prcm",
        "outputId": "5e4f1818-b6da-429c-da5e-6e20a65d18b2"
      },
      "execution_count": 4,
      "outputs": [
        {
          "output_type": "stream",
          "name": "stdout",
          "text": [
            "Baseline SVM Model Performance:\n",
            "Accuracy:  0.9722\n",
            "Precision: 0.9741\n",
            "Recall:    0.9722\n",
            "F1-score:  0.9720\n"
          ]
        }
      ]
    },
    {
      "cell_type": "code",
      "source": [
        "import matplotlib.pyplot as plt\n",
        "import seaborn as sns\n",
        "\n",
        "plt.figure(figsize=(6,4))\n",
        "sns.heatmap(confusion_matrix(y_test, y_pred), annot=True, fmt='d', cmap='Blues')\n",
        "plt.title(\"Confusion Matrix — Baseline SVM\")\n",
        "plt.xlabel(\"Predicted\")\n",
        "plt.ylabel(\"Actual\")\n",
        "plt.show()\n"
      ],
      "metadata": {
        "colab": {
          "base_uri": "https://localhost:8080/",
          "height": 410
        },
        "id": "M4rJql2UPvBx",
        "outputId": "eabd9865-9eba-46a3-d037-3d785c7054f5"
      },
      "execution_count": 5,
      "outputs": [
        {
          "output_type": "display_data",
          "data": {
            "text/plain": [
              "<Figure size 600x400 with 2 Axes>"
            ],
            "image/png": "[encoded data removed]"
          },
          "metadata": {}
        }
      ]
    },
    {
      "cell_type": "code",
      "source": [
        "# Hyperparameter Tuning (Before Final Evaluation)\n",
        "from sklearn.model_selection import GridSearchCV\n",
        "\n",
        "param_grid = {\n",
        "    'C': [0.1, 1, 10, 100],\n",
        "    'kernel': ['linear', 'rbf', 'poly'],\n",
        "    'gamma': ['scale', 'auto', 0.01, 0.1, 1]\n",
        "}\n",
        "\n",
        "grid_search = GridSearchCV(\n",
        "    SVC(random_state=42),\n",
        "    param_grid=param_grid,\n",
        "    cv=5,\n",
        "    scoring='accuracy',\n",
        "    n_jobs=-1,\n",
        "    verbose=2\n",
        ")\n",
        "\n",
        "grid_search.fit(X_train_scaled, y_train)\n",
        "print(\"Best Parameters:\", grid_search.best_params_)\n",
        "\n",
        "best_svm = grid_search.best_estimator_\n"
      ],
      "metadata": {
        "colab": {
          "base_uri": "https://localhost:8080/"
        },
        "id": "5nir7s_OPyEo",
        "outputId": "034131a6-5dbf-45a9-fc9b-977032f312d1"
      },
      "execution_count": 6,
      "outputs": [
        {
          "output_type": "stream",
          "name": "stdout",
          "text": [
            "Fitting 5 folds for each of 60 candidates, totalling 300 fits\n",
            "Best Parameters: {'C': 0.1, 'gamma': 'scale', 'kernel': 'linear'}\n"
          ]
        }
      ]
    },
    {
      "cell_type": "code",
      "source": [
        "# Evaluate Tuned Model\n",
        "y_pred_best = best_svm.predict(X_test_scaled)\n",
        "\n",
        "print(\"Tuned SVM Model Performance:\")\n",
        "print(f\"Accuracy:  {accuracy_score(y_test, y_pred_best):.4f}\")\n",
        "print(f\"Precision: {precision_score(y_test, y_pred_best, average='weighted'):.4f}\")\n",
        "print(f\"Recall:    {recall_score(y_test, y_pred_best, average='weighted'):.4f}\")\n",
        "print(f\"F1-score:  {f1_score(y_test, y_pred_best, average='weighted'):.4f}\")\n",
        "\n",
        "print(\"\\nClassification Report:\")\n",
        "print(classification_report(y_test, y_pred_best))\n"
      ],
      "metadata": {
        "colab": {
          "base_uri": "https://localhost:8080/"
        },
        "id": "IQ-M-fjgUjOK",
        "outputId": "4bdf7903-ed7b-415f-93fb-7659af84a05c"
      },
      "execution_count": 7,
      "outputs": [
        {
          "output_type": "stream",
          "name": "stdout",
          "text": [
            "Tuned SVM Model Performance:\n",
            "Accuracy:  0.9722\n",
            "Precision: 0.9741\n",
            "Recall:    0.9722\n",
            "F1-score:  0.9720\n",
            "\n",
            "Classification Report:\n",
            "              precision    recall  f1-score   support\n",
            "\n",
            "           0       1.00      1.00      1.00        12\n",
            "           1       0.93      1.00      0.97        14\n",
            "           2       1.00      0.90      0.95        10\n",
            "\n",
            "    accuracy                           0.97        36\n",
            "   macro avg       0.98      0.97      0.97        36\n",
            "weighted avg       0.97      0.97      0.97        36\n",
            "\n"
          ]
        }
      ]
    },
    {
      "cell_type": "code",
      "source": [
        "plt.figure(figsize=(6,4))\n",
        "sns.heatmap(confusion_matrix(y_test, y_pred_best), annot=True, fmt='d', cmap='Greens')\n",
        "plt.title(\"Confusion Matrix — Tuned SVM\")\n",
        "plt.xlabel(\"Predicted\")\n",
        "plt.ylabel(\"Actual\")\n",
        "plt.show()\n"
      ],
      "metadata": {
        "colab": {
          "base_uri": "https://localhost:8080/",
          "height": 410
        },
        "id": "LL5-ERJMUpAY",
        "outputId": "d29b9747-d0d8-4704-8ad2-f5eeea072c1c"
      },
      "execution_count": 8,
      "outputs": [
        {
          "output_type": "display_data",
          "data": {
            "text/plain": [
              "<Figure size 600x400 with 2 Axes>"
            ],
            "image/png": "[encoded data removed]"
          },
          "metadata": {}
        }
      ]
    },
    {
      "cell_type": "code",
      "source": [
        "# Cross-Validation\n",
        "from sklearn.model_selection import cross_val_score\n",
        "import numpy as np\n",
        "\n",
        "cv_scores = cross_val_score(best_svm, X_train_scaled, y_train, cv=5, scoring='accuracy', n_jobs=-1)\n",
        "print(\"Cross-validation accuracies:\", np.round(cv_scores, 4))\n",
        "print(\"Mean CV accuracy:\", np.round(cv_scores.mean(), 4))"
      ],
      "metadata": {
        "colab": {
          "base_uri": "https://localhost:8080/"
        },
        "id": "uEaLE3XlU5n5",
        "outputId": "417b1376-44ab-444c-e138-b2cb0f2dff87"
      },
      "execution_count": 11,
      "outputs": [
        {
          "output_type": "stream",
          "name": "stdout",
          "text": [
            "Cross-validation accuracies: [1.    0.931 1.    1.    1.   ]\n",
            "Mean CV accuracy: 0.9862\n"
          ]
        }
      ]
    },
    {
      "cell_type": "code",
      "source": [
        "joblib.dump(best_svm, '/content/svm_best_model.joblib')\n",
        "joblib.dump(scaler, '/content/svm_scaler.joblib')\n",
        "print(\"Tuned SVM model and scaler saved successfully!\")\n"
      ],
      "metadata": {
        "colab": {
          "base_uri": "https://localhost:8080/"
        },
        "id": "S6OxvQSZU7B_",
        "outputId": "459341e9-d08e-4f1d-b429-74291ab5dca4"
      },
      "execution_count": 12,
      "outputs": [
        {
          "output_type": "stream",
          "name": "stdout",
          "text": [
            "Tuned SVM model and scaler saved successfully!\n"
          ]
        }
      ]
    }
  ]
}